{
 "cells": [
  {
   "cell_type": "code",
   "execution_count": 2,
   "metadata": {},
   "outputs": [
    {
     "data": {
      "text/html": [
       "<html><script type=\"math/tex; mode=display\">\\newcommand{\\Bold}[1]{\\mathbf{#1}}x_{0} e^{\\left(-k t\\right)}</script></html>"
      ],
      "text/latex": [
       "\\begin{math}\n",
       "\\newcommand{\\Bold}[1]{\\mathbf{#1}}x_{0} e^{\\left(-k t\\right)}\n",
       "\\end{math}"
      ],
      "text/plain": [
       "x0*e^(-k*t)"
      ]
     },
     "metadata": {},
     "output_type": "display_data"
    }
   ],
   "source": [
    "#1.a-b)\n",
    "reset()\n",
    "t,x0,k=var('t,x0,k')\n",
    "x=function('x')(t)\n",
    "edq=diff(x,t)==-k*x\n",
    "f(t,k,x0)=desolve(edq,[x,t],[0,x0])\n",
    "show(f(t,k,x0))"
   ]
  },
  {
   "cell_type": "code",
   "execution_count": 3,
   "metadata": {},
   "outputs": [
    {
     "data": {
      "image/png": "[encoded data removed]",
      "text/plain": [
       "Graphics object consisting of 2 graphics primitives"
      ]
     },
     "metadata": {},
     "output_type": "display_data"
    }
   ],
   "source": [
    "g1=plot(f(t,1,2),t,0,8,color='red')\n",
    "g2=plot(f(t,1,3),t,0,8,color='blue')\n",
    "show(g1+g2)"
   ]
  },
  {
   "cell_type": "code",
   "execution_count": 4,
   "metadata": {},
   "outputs": [
    {
     "data": {
      "text/html": [
       "<html><script type=\"math/tex; mode=display\">\\newcommand{\\Bold}[1]{\\mathbf{#1}}\\left[k = \\frac{\\log\\left(2\\right)}{T_{12}}\\right]</script></html>"
      ],
      "text/latex": [
       "\\begin{math}\n",
       "\\newcommand{\\Bold}[1]{\\mathbf{#1}}\\left[k = \\frac{\\log\\left(2\\right)}{T_{12}}\\right]\n",
       "\\end{math}"
      ],
      "text/plain": [
       "[k == log(2)/T12]"
      ]
     },
     "metadata": {},
     "output_type": "display_data"
    }
   ],
   "source": [
    "#1.c)\n",
    "T12=var('T12')\n",
    "ec=f(T12,k,x0)==x0/2\n",
    "[s1]=solve(ec,k)\n",
    "show([s1])"
   ]
  },
  {
   "cell_type": "code",
   "execution_count": 5,
   "metadata": {},
   "outputs": [
    {
     "data": {
      "text/plain": [
       "log(2)/T12"
      ]
     },
     "execution_count": 5,
     "metadata": {},
     "output_type": "execute_result"
    }
   ],
   "source": [
    "k(T12)=s1.rhs()\n",
    "k(T12)"
   ]
  },
  {
   "cell_type": "code",
   "execution_count": 6,
   "metadata": {},
   "outputs": [
    {
     "data": {
      "text/plain": [
       "1/5730*log(2)"
      ]
     },
     "execution_count": 6,
     "metadata": {},
     "output_type": "execute_result"
    }
   ],
   "source": [
    "k(5730)"
   ]
  },
  {
   "cell_type": "code",
   "execution_count": 7,
   "metadata": {},
   "outputs": [
    {
     "data": {
      "text/plain": [
       "0.000120968094338559"
      ]
     },
     "execution_count": 7,
     "metadata": {},
     "output_type": "execute_result"
    }
   ],
   "source": [
    "numerical_approx(k(5730))"
   ]
  },
  {
   "cell_type": "code",
   "execution_count": 8,
   "metadata": {},
   "outputs": [
    {
     "data": {
      "text/html": [
       "<html><script type=\"math/tex; mode=display\">\\newcommand{\\Bold}[1]{\\mathbf{#1}}\\left[t = \\frac{1000000}{121} \\, \\log\\left(5\\right)\\right]</script></html>"
      ],
      "text/latex": [
       "\\begin{math}\n",
       "\\newcommand{\\Bold}[1]{\\mathbf{#1}}\\left[t = \\frac{1000000}{121} \\, \\log\\left(5\\right)\\right]\n",
       "\\end{math}"
      ],
      "text/plain": [
       "[t == 1000000/121*log(5)]"
      ]
     },
     "metadata": {},
     "output_type": "display_data"
    },
    {
     "data": {
      "text/html": [
       "<html><script type=\"math/tex; mode=display\">\\newcommand{\\Bold}[1]{\\mathbf{#1}}\\frac{1000000}{121} \\, \\log\\left(5\\right)</script></html>"
      ],
      "text/latex": [
       "\\begin{math}\n",
       "\\newcommand{\\Bold}[1]{\\mathbf{#1}}\\frac{1000000}{121} \\, \\log\\left(5\\right)\n",
       "\\end{math}"
      ],
      "text/plain": [
       "1000000/121*log(5)"
      ]
     },
     "metadata": {},
     "output_type": "display_data"
    }
   ],
   "source": [
    "#1. d)\n",
    "assume(t,'real')\n",
    "ecd=f(t,0.000121,1)==0.2\n",
    "[s2]=solve(ecd,t)\n",
    "show([s2])\n",
    "t1=s2.rhs()\n",
    "show(t1)"
   ]
  },
  {
   "cell_type": "code",
   "execution_count": 9,
   "metadata": {},
   "outputs": [
    {
     "data": {
      "text/plain": [
       "13301.1397721826"
      ]
     },
     "execution_count": 9,
     "metadata": {},
     "output_type": "execute_result"
    }
   ],
   "source": [
    "numerical_approx(t1)"
   ]
  },
  {
   "cell_type": "code",
   "execution_count": null,
   "metadata": {},
   "outputs": [],
   "source": [
    "#1. e)\n",
    "assume(t,'real')\n",
    "ece1=f(t,0.0001,1)==0.91\n",
    "[s3]=solve(ece1,t)\n",
    "show([s3])\n",
    "t2=s3.rhs()\n",
    "show(t2)"
   ]
  },
  {
   "cell_type": "code",
   "execution_count": null,
   "metadata": {},
   "outputs": [],
   "source": [
    "numerical_approx(t2)\n",
    "show(1988-numerical_approx(t2))"
   ]
  },
  {
   "cell_type": "code",
   "execution_count": 24,
   "metadata": {},
   "outputs": [
    {
     "data": {
      "text/html": [
       "<html><script type=\"math/tex; mode=display\">\\newcommand{\\Bold}[1]{\\mathbf{#1}}\\left[t = 10000 \\, \\log\\left(\\frac{100}{93}\\right)\\right]</script></html>"
      ],
      "text/latex": [
       "\\begin{math}\n",
       "\\newcommand{\\Bold}[1]{\\mathbf{#1}}\\left[t = 10000 \\, \\log\\left(\\frac{100}{93}\\right)\\right]\n",
       "\\end{math}"
      ],
      "text/plain": [
       "[t == 10000*log(100/93)]"
      ]
     },
     "metadata": {},
     "output_type": "display_data"
    },
    {
     "data": {
      "text/html": [
       "<html><script type=\"math/tex; mode=display\">\\newcommand{\\Bold}[1]{\\mathbf{#1}}10000 \\, \\log\\left(\\frac{100}{93}\\right)</script></html>"
      ],
      "text/latex": [
       "\\begin{math}\n",
       "\\newcommand{\\Bold}[1]{\\mathbf{#1}}10000 \\, \\log\\left(\\frac{100}{93}\\right)\n",
       "\\end{math}"
      ],
      "text/plain": [
       "10000*log(100/93)"
      ]
     },
     "metadata": {},
     "output_type": "display_data"
    }
   ],
   "source": [
    "#1. e)\n",
    "assume(t,'real')\n",
    "ece2=f(t,0.0001,1)==0.93\n",
    "[s4]=solve(ece2,t)\n",
    "show([s4])\n",
    "t3=s4.rhs()\n",
    "show(t3)"
   ]
  },
  {
   "cell_type": "code",
   "execution_count": 25,
   "metadata": {},
   "outputs": [
    {
     "data": {
      "text/plain": [
       "725.706928348354"
      ]
     },
     "execution_count": 25,
     "metadata": {},
     "output_type": "execute_result"
    }
   ],
   "source": [
    "numerical_approx(t3)"
   ]
  },
  {
   "cell_type": "code",
   "execution_count": 26,
   "metadata": {},
   "outputs": [
    {
     "data": {
      "text/html": [
       "<html><script type=\"math/tex; mode=display\">\\newcommand{\\Bold}[1]{\\mathbf{#1}}1262.29307165165</script></html>"
      ],
      "text/latex": [
       "\\begin{math}\n",
       "\\newcommand{\\Bold}[1]{\\mathbf{#1}}1262.29307165165\n",
       "\\end{math}"
      ],
      "text/plain": [
       "1262.29307165165"
      ]
     },
     "metadata": {},
     "output_type": "display_data"
    }
   ],
   "source": [
    "show(1988-numerical_approx(t3))"
   ]
  },
  {
   "cell_type": "code",
   "execution_count": 29,
   "metadata": {},
   "outputs": [
    {
     "data": {
      "text/html": [
       "<html><script type=\"math/tex; mode=display\">\\newcommand{\\Bold}[1]{\\mathbf{#1}}{\\left(\\mathit{Tm} e^{\\left(k t\\right)} + T_{0} - \\mathit{Tm}\\right)} e^{\\left(-k t\\right)}</script></html>"
      ],
      "text/latex": [
       "\\begin{math}\n",
       "\\newcommand{\\Bold}[1]{\\mathbf{#1}}{\\left(\\mathit{Tm} e^{\\left(k t\\right)} + T_{0} - \\mathit{Tm}\\right)} e^{\\left(-k t\\right)}\n",
       "\\end{math}"
      ],
      "text/plain": [
       "(Tm*e^(k*t) + T0 - Tm)*e^(-k*t)"
      ]
     },
     "metadata": {},
     "output_type": "display_data"
    }
   ],
   "source": [
    "#2.a-b)\n",
    "reset()\n",
    "t,T0,k,Tm=var('t,T0,k,Tm')\n",
    "T=function('T')(t)\n",
    "edq=diff(T,t)==-k*(T-Tm)\n",
    "f(t,k,T0,Tm)=desolve(edq,[T,t],[0,T0])\n",
    "show(f(t,k,T0,Tm))"
   ]
  },
  {
   "cell_type": "code",
   "execution_count": 34,
   "metadata": {},
   "outputs": [
    {
     "data": {
      "image/png": "[encoded data removed]",
      "text/plain": [
       "Graphics object consisting of 11 graphics primitives"
      ]
     },
     "metadata": {},
     "output_type": "display_data"
    }
   ],
   "source": [
    "g=plot(f(t,1,30,10),t,xmin=-15,xmax=15,ymin=-10,ymax=25)\n",
    "for i in range (0,10):\n",
    "    gx=plot(f(t,1,i,10),t,xmin=-15,xmax=15)\n",
    "    g=gx+g\n",
    "show(g)"
   ]
  },
  {
   "cell_type": "code",
   "execution_count": 36,
   "metadata": {},
   "outputs": [
    {
     "data": {
      "text/html": [
       "<html><script type=\"math/tex; mode=display\">\\newcommand{\\Bold}[1]{\\mathbf{#1}}k = \\log\\left(\\frac{1322}{1311}\\right)</script></html>"
      ],
      "text/latex": [
       "\\begin{math}\n",
       "\\newcommand{\\Bold}[1]{\\mathbf{#1}}k = \\log\\left(\\frac{1322}{1311}\\right)\n",
       "\\end{math}"
      ],
      "text/plain": [
       "k == log(1322/1311)"
      ]
     },
     "metadata": {},
     "output_type": "display_data"
    }
   ],
   "source": [
    "#2.c)\n",
    "Td=var('Td')\n",
    "assume(k,'real')\n",
    "assume(Td,'real')\n",
    "ecc=f(1,k,34.22,21)==34.11\n",
    "[s1]=solve(ecc,k)\n",
    "show(s1)"
   ]
  },
  {
   "cell_type": "code",
   "execution_count": 39,
   "metadata": {},
   "outputs": [
    {
     "data": {
      "text/html": [
       "<html><script type=\"math/tex; mode=display\">\\newcommand{\\Bold}[1]{\\mathbf{#1}}\\log\\left(\\frac{1322}{1311}\\right)</script></html>"
      ],
      "text/latex": [
       "\\begin{math}\n",
       "\\newcommand{\\Bold}[1]{\\mathbf{#1}}\\log\\left(\\frac{1322}{1311}\\right)\n",
       "\\end{math}"
      ],
      "text/plain": [
       "log(1322/1311)"
      ]
     },
     "metadata": {},
     "output_type": "display_data"
    }
   ],
   "source": [
    "k1=s1.rhs()\n",
    "show(k1)"
   ]
  },
  {
   "cell_type": "code",
   "execution_count": 41,
   "metadata": {},
   "outputs": [
    {
     "data": {
      "text/html": [
       "<html><script type=\"math/tex; mode=display\">\\newcommand{\\Bold}[1]{\\mathbf{#1}}1322^{\\mathit{Td}} = \\frac{750}{661} \\cdot 1311^{\\mathit{Td}}</script></html>"
      ],
      "text/latex": [
       "\\begin{math}\n",
       "\\newcommand{\\Bold}[1]{\\mathbf{#1}}1322^{\\mathit{Td}} = \\frac{750}{661} \\cdot 1311^{\\mathit{Td}}\n",
       "\\end{math}"
      ],
      "text/plain": [
       "1322^Td == 750/661*1311^Td"
      ]
     },
     "metadata": {},
     "output_type": "display_data"
    }
   ],
   "source": [
    "ecc2=f(Td,k1,36,21)==34.22\n",
    "[s2]=solve(ecc2,Td)\n",
    "show(s2)"
   ]
  },
  {
   "cell_type": "code",
   "execution_count": 42,
   "metadata": {},
   "outputs": [
    {
     "data": {
      "text/plain": [
       "15.118043520273078"
      ]
     },
     "execution_count": 42,
     "metadata": {},
     "output_type": "execute_result"
    }
   ],
   "source": [
    "find_root(ecc2,0,24)"
   ]
  },
  {
   "cell_type": "code",
   "execution_count": null,
   "metadata": {},
   "outputs": [],
   "source": [
    "#3.a)\n",
    "deqV=diff(x,t)==r0*x*"
   ]
  }
 ],
 "metadata": {
  "kernelspec": {
   "display_name": "SageMath 9.2",
   "language": "sage",
   "name": "sagemath"
  },
  "language_info": {
   "codemirror_mode": {
    "name": "ipython",
    "version": 3
   },
   "file_extension": ".py",
   "mimetype": "text/x-python",
   "name": "python",
   "nbconvert_exporter": "python",
   "pygments_lexer": "ipython3",
   "version": "3.7.7"
  }
 },
 "nbformat": 4,
 "nbformat_minor": 4
}
