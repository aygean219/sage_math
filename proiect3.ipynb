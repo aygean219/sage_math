{
 "cells": [
  {
   "cell_type": "code",
   "execution_count": 1,
   "metadata": {},
   "outputs": [
    {
     "data": {
      "text/plain": [
       "[diff(x(t), t) == x(t) + 4*y(t), diff(y(t), t) == x(t) + y(t)]"
      ]
     },
     "execution_count": 1,
     "metadata": {},
     "output_type": "execute_result"
    }
   ],
   "source": [
    "#1 a)\n",
    "t=var('t')\n",
    "x=function('x')(t)\n",
    "y=function('y')(t)\n",
    "deq1=diff(x,t)==x+4*y\n",
    "deq2=diff(y,t)==x+y\n",
    "syst=[deq1,deq2]\n",
    "syst"
   ]
  },
  {
   "cell_type": "code",
   "execution_count": 2,
   "metadata": {},
   "outputs": [
    {
     "data": {
      "text/html": [
       "<html><script type=\"math/tex; mode=display\">\\newcommand{\\Bold}[1]{\\mathbf{#1}}\\left[x\\left(t\\right) = \\frac{1}{2} \\, {\\left(x\\left(0\\right) + 2 \\, y\\left(0\\right)\\right)} e^{\\left(3 \\, t\\right)} + \\frac{1}{2} \\, {\\left(x\\left(0\\right) - 2 \\, y\\left(0\\right)\\right)} e^{\\left(-t\\right)}, y\\left(t\\right) = \\frac{1}{4} \\, {\\left(x\\left(0\\right) + 2 \\, y\\left(0\\right)\\right)} e^{\\left(3 \\, t\\right)} - \\frac{1}{4} \\, {\\left(x\\left(0\\right) - 2 \\, y\\left(0\\right)\\right)} e^{\\left(-t\\right)}\\right]</script></html>"
      ],
      "text/latex": [
       "\\begin{math}\n",
       "\\newcommand{\\Bold}[1]{\\mathbf{#1}}\\left[x\\left(t\\right) = \\frac{1}{2} \\, {\\left(x\\left(0\\right) + 2 \\, y\\left(0\\right)\\right)} e^{\\left(3 \\, t\\right)} + \\frac{1}{2} \\, {\\left(x\\left(0\\right) - 2 \\, y\\left(0\\right)\\right)} e^{\\left(-t\\right)}, y\\left(t\\right) = \\frac{1}{4} \\, {\\left(x\\left(0\\right) + 2 \\, y\\left(0\\right)\\right)} e^{\\left(3 \\, t\\right)} - \\frac{1}{4} \\, {\\left(x\\left(0\\right) - 2 \\, y\\left(0\\right)\\right)} e^{\\left(-t\\right)}\\right]\n",
       "\\end{math}"
      ],
      "text/plain": [
       "[x(t) == 1/2*(x(0) + 2*y(0))*e^(3*t) + 1/2*(x(0) - 2*y(0))*e^(-t),\n",
       " y(t) == 1/4*(x(0) + 2*y(0))*e^(3*t) - 1/4*(x(0) - 2*y(0))*e^(-t)]"
      ]
     },
     "metadata": {},
     "output_type": "display_data"
    }
   ],
   "source": [
    "show(desolve_system(syst,[x,y]))"
   ]
  },
  {
   "cell_type": "code",
   "execution_count": 3,
   "metadata": {},
   "outputs": [
    {
     "data": {
      "text/plain": [
       "[diff(x(t), t) == 2*x(t) - y(t), diff(y(t), t) == x(t) + 2*y(t)]"
      ]
     },
     "execution_count": 3,
     "metadata": {},
     "output_type": "execute_result"
    }
   ],
   "source": [
    "#1 b)\n",
    "t=var('t')\n",
    "x=function('x')(t)\n",
    "y=function('y')(t)\n",
    "deq1=diff(x,t)==2*x-y\n",
    "deq2=diff(y,t)==x+2*y\n",
    "syst=[deq1,deq2]\n",
    "syst"
   ]
  },
  {
   "cell_type": "code",
   "execution_count": 4,
   "metadata": {},
   "outputs": [
    {
     "data": {
      "text/html": [
       "<html><script type=\"math/tex; mode=display\">\\newcommand{\\Bold}[1]{\\mathbf{#1}}\\left[x\\left(t\\right) = {\\left(\\cos\\left(t\\right) x\\left(0\\right) - \\sin\\left(t\\right) y\\left(0\\right)\\right)} e^{\\left(2 \\, t\\right)}, y\\left(t\\right) = {\\left(\\sin\\left(t\\right) x\\left(0\\right) + \\cos\\left(t\\right) y\\left(0\\right)\\right)} e^{\\left(2 \\, t\\right)}\\right]</script></html>"
      ],
      "text/latex": [
       "\\begin{math}\n",
       "\\newcommand{\\Bold}[1]{\\mathbf{#1}}\\left[x\\left(t\\right) = {\\left(\\cos\\left(t\\right) x\\left(0\\right) - \\sin\\left(t\\right) y\\left(0\\right)\\right)} e^{\\left(2 \\, t\\right)}, y\\left(t\\right) = {\\left(\\sin\\left(t\\right) x\\left(0\\right) + \\cos\\left(t\\right) y\\left(0\\right)\\right)} e^{\\left(2 \\, t\\right)}\\right]\n",
       "\\end{math}"
      ],
      "text/plain": [
       "[x(t) == (cos(t)*x(0) - sin(t)*y(0))*e^(2*t),\n",
       " y(t) == (sin(t)*x(0) + cos(t)*y(0))*e^(2*t)]"
      ]
     },
     "metadata": {},
     "output_type": "display_data"
    }
   ],
   "source": [
    "show(desolve_system(syst,[x,y]))"
   ]
  },
  {
   "cell_type": "code",
   "execution_count": 5,
   "metadata": {},
   "outputs": [
    {
     "data": {
      "text/plain": [
       "[diff(x(t), t) == x(t) - y(t) + z(t),\n",
       " diff(y(t), t) == x(t) + y(t) - z(t),\n",
       " diff(z(t), t) == -y(t) + 2*z(t)]"
      ]
     },
     "execution_count": 5,
     "metadata": {},
     "output_type": "execute_result"
    }
   ],
   "source": [
    "#1 c)\n",
    "t=var('t')\n",
    "x=function('x')(t)\n",
    "y=function('y')(t)\n",
    "z=function('z')(t)\n",
    "deq1=diff(x,t)==x-y+z\n",
    "deq2=diff(y,t)==x+y-z\n",
    "deq3=diff(z,t)==-y+2*z\n",
    "syst=[deq1,deq2,deq3]\n",
    "syst"
   ]
  },
  {
   "cell_type": "code",
   "execution_count": 7,
   "metadata": {},
   "outputs": [
    {
     "data": {
      "text/html": [
       "<html><script type=\"math/tex; mode=display\">\\newcommand{\\Bold}[1]{\\mathbf{#1}}\\left[x\\left(t\\right) = t e^{t} x\\left(0\\right) - t e^{t} z\\left(0\\right) - {\\left(x\\left(0\\right) + y\\left(0\\right) - 2 \\, z\\left(0\\right)\\right)} e^{\\left(2 \\, t\\right)} + {\\left(2 \\, x\\left(0\\right) + y\\left(0\\right) - 2 \\, z\\left(0\\right)\\right)} e^{t}, y\\left(t\\right) = t e^{t} x\\left(0\\right) - t e^{t} z\\left(0\\right) + e^{t} y\\left(0\\right), z\\left(t\\right) = t e^{t} x\\left(0\\right) - t e^{t} z\\left(0\\right) - {\\left(x\\left(0\\right) + y\\left(0\\right) - 2 \\, z\\left(0\\right)\\right)} e^{\\left(2 \\, t\\right)} + {\\left(x\\left(0\\right) + y\\left(0\\right) - z\\left(0\\right)\\right)} e^{t}\\right]</script></html>"
      ],
      "text/latex": [
       "\\begin{math}\n",
       "\\newcommand{\\Bold}[1]{\\mathbf{#1}}\\left[x\\left(t\\right) = t e^{t} x\\left(0\\right) - t e^{t} z\\left(0\\right) - {\\left(x\\left(0\\right) + y\\left(0\\right) - 2 \\, z\\left(0\\right)\\right)} e^{\\left(2 \\, t\\right)} + {\\left(2 \\, x\\left(0\\right) + y\\left(0\\right) - 2 \\, z\\left(0\\right)\\right)} e^{t}, y\\left(t\\right) = t e^{t} x\\left(0\\right) - t e^{t} z\\left(0\\right) + e^{t} y\\left(0\\right), z\\left(t\\right) = t e^{t} x\\left(0\\right) - t e^{t} z\\left(0\\right) - {\\left(x\\left(0\\right) + y\\left(0\\right) - 2 \\, z\\left(0\\right)\\right)} e^{\\left(2 \\, t\\right)} + {\\left(x\\left(0\\right) + y\\left(0\\right) - z\\left(0\\right)\\right)} e^{t}\\right]\n",
       "\\end{math}"
      ],
      "text/plain": [
       "[x(t) == t*e^t*x(0) - t*e^t*z(0) - (x(0) + y(0) - 2*z(0))*e^(2*t) + (2*x(0) + y(0) - 2*z(0))*e^t,\n",
       " y(t) == t*e^t*x(0) - t*e^t*z(0) + e^t*y(0),\n",
       " z(t) == t*e^t*x(0) - t*e^t*z(0) - (x(0) + y(0) - 2*z(0))*e^(2*t) + (x(0) + y(0) - z(0))*e^t]"
      ]
     },
     "metadata": {},
     "output_type": "display_data"
    }
   ],
   "source": [
    "show(desolve_system(syst,[x,y,z]))"
   ]
  },
  {
   "cell_type": "code",
   "execution_count": 8,
   "metadata": {},
   "outputs": [
    {
     "data": {
      "text/plain": [
       "[diff(x(t), t) == x(t) + 4*y(t), diff(y(t), t) == x(t) + y(t)]"
      ]
     },
     "execution_count": 8,
     "metadata": {},
     "output_type": "execute_result"
    }
   ],
   "source": [
    "#2 a)\n",
    "t=var('t')\n",
    "x=function('x')(t)\n",
    "y=function('y')(t)\n",
    "deq1=diff(x,t)==x+4*y\n",
    "deq2=diff(y,t)==x+y\n",
    "syst=[deq1,deq2]\n",
    "syst"
   ]
  },
  {
   "cell_type": "code",
   "execution_count": 12,
   "metadata": {},
   "outputs": [
    {
     "data": {
      "text/html": [
       "<html><script type=\"math/tex; mode=display\">\\newcommand{\\Bold}[1]{\\mathbf{#1}}\\left[x\\left(t\\right) = \\frac{5}{2} \\, e^{\\left(3 \\, t\\right)} - \\frac{3}{2} \\, e^{\\left(-t\\right)}, y\\left(t\\right) = \\frac{5}{4} \\, e^{\\left(3 \\, t\\right)} + \\frac{3}{4} \\, e^{\\left(-t\\right)}\\right]</script></html>"
      ],
      "text/latex": [
       "\\begin{math}\n",
       "\\newcommand{\\Bold}[1]{\\mathbf{#1}}\\left[x\\left(t\\right) = \\frac{5}{2} \\, e^{\\left(3 \\, t\\right)} - \\frac{3}{2} \\, e^{\\left(-t\\right)}, y\\left(t\\right) = \\frac{5}{4} \\, e^{\\left(3 \\, t\\right)} + \\frac{3}{4} \\, e^{\\left(-t\\right)}\\right]\n",
       "\\end{math}"
      ],
      "text/plain": [
       "[x(t) == 5/2*e^(3*t) - 3/2*e^(-t), y(t) == 5/4*e^(3*t) + 3/4*e^(-t)]"
      ]
     },
     "metadata": {},
     "output_type": "display_data"
    }
   ],
   "source": [
    "a=[0,1,2]\n",
    "show(desolve_system(syst,[x,y],a))"
   ]
  },
  {
   "cell_type": "code",
   "execution_count": 15,
   "metadata": {},
   "outputs": [
    {
     "data": {
      "image/png": "[encoded data removed]",
      "text/plain": [
       "Graphics object consisting of 2 graphics primitives"
      ]
     },
     "metadata": {},
     "output_type": "display_data"
    }
   ],
   "source": [
    "sol=desolve_system(syst,[x,y],[0,1,2])\n",
    "sol_x(t,C1,C2)=sol[0].rhs()\n",
    "sol_y(t,C1,C2)=sol[1].rhs()\n",
    "g1=plot(sol_x(t),t,-5,5,color='red',ymin=-25,ymax=25)\n",
    "g2=plot(sol_y(t),t,-5,5,color='blue',ymin=-25,ymax=25)\n",
    "show(g1+g2)"
   ]
  },
  {
   "cell_type": "code",
   "execution_count": 17,
   "metadata": {},
   "outputs": [
    {
     "data": {
      "text/plain": [
       "[diff(x(t), t) == t + x(t) - y(t) - 1,\n",
       " diff(y(t), t) == cos(t) - 2*x(t) + 4*y(t)]"
      ]
     },
     "execution_count": 17,
     "metadata": {},
     "output_type": "execute_result"
    }
   ],
   "source": [
    "#2 b)\n",
    "t=var('t')\n",
    "x=function('x')(t)\n",
    "y=function('y')(t)\n",
    "deq1=diff(x,t)==x-y+t-1\n",
    "deq2=diff(y,t)==-2*x+4*y+cos(t)\n",
    "syst=[deq1,deq2]\n",
    "syst"
   ]
  },
  {
   "cell_type": "code",
   "execution_count": 18,
   "metadata": {},
   "outputs": [
    {
     "data": {
      "text/html": [
       "<html><script type=\"math/tex; mode=display\">\\newcommand{\\Bold}[1]{\\mathbf{#1}}\\left[x\\left(t\\right) = -\\frac{1}{13} \\, {\\left(10 \\, \\sqrt{17} \\sinh\\left(\\frac{1}{2} \\, \\sqrt{17} t\\right) - 33 \\, \\cosh\\left(\\frac{1}{2} \\, \\sqrt{17} t\\right)\\right)} e^{\\left(\\frac{5}{2} \\, t\\right)} - 2 \\, t - \\frac{1}{26} \\, \\cos\\left(t\\right) + \\frac{5}{26} \\, \\sin\\left(t\\right) - \\frac{5}{2}, y\\left(t\\right) = -\\frac{1}{26} \\, {\\left(3 \\, \\sqrt{17} \\sinh\\left(\\frac{1}{2} \\, \\sqrt{17} t\\right) - 71 \\, \\cosh\\left(\\frac{1}{2} \\, \\sqrt{17} t\\right)\\right)} e^{\\left(\\frac{5}{2} \\, t\\right)} - t - \\frac{3}{13} \\, \\cos\\left(t\\right) + \\frac{2}{13} \\, \\sin\\left(t\\right) - \\frac{3}{2}\\right]</script></html>"
      ],
      "text/latex": [
       "\\begin{math}\n",
       "\\newcommand{\\Bold}[1]{\\mathbf{#1}}\\left[x\\left(t\\right) = -\\frac{1}{13} \\, {\\left(10 \\, \\sqrt{17} \\sinh\\left(\\frac{1}{2} \\, \\sqrt{17} t\\right) - 33 \\, \\cosh\\left(\\frac{1}{2} \\, \\sqrt{17} t\\right)\\right)} e^{\\left(\\frac{5}{2} \\, t\\right)} - 2 \\, t - \\frac{1}{26} \\, \\cos\\left(t\\right) + \\frac{5}{26} \\, \\sin\\left(t\\right) - \\frac{5}{2}, y\\left(t\\right) = -\\frac{1}{26} \\, {\\left(3 \\, \\sqrt{17} \\sinh\\left(\\frac{1}{2} \\, \\sqrt{17} t\\right) - 71 \\, \\cosh\\left(\\frac{1}{2} \\, \\sqrt{17} t\\right)\\right)} e^{\\left(\\frac{5}{2} \\, t\\right)} - t - \\frac{3}{13} \\, \\cos\\left(t\\right) + \\frac{2}{13} \\, \\sin\\left(t\\right) - \\frac{3}{2}\\right]\n",
       "\\end{math}"
      ],
      "text/plain": [
       "[x(t) == -1/13*(10*sqrt(17)*sinh(1/2*sqrt(17)*t) - 33*cosh(1/2*sqrt(17)*t))*e^(5/2*t) - 2*t - 1/26*cos(t) + 5/26*sin(t) - 5/2,\n",
       " y(t) == -1/26*(3*sqrt(17)*sinh(1/2*sqrt(17)*t) - 71*cosh(1/2*sqrt(17)*t))*e^(5/2*t) - t - 3/13*cos(t) + 2/13*sin(t) - 3/2]"
      ]
     },
     "metadata": {},
     "output_type": "display_data"
    }
   ],
   "source": [
    "a=[0,0,1]\n",
    "show(desolve_system(syst,[x,y],a))"
   ]
  },
  {
   "cell_type": "code",
   "execution_count": 20,
   "metadata": {},
   "outputs": [
    {
     "data": {
      "image/png": "[encoded data removed]",
      "text/plain": [
       "Graphics object consisting of 2 graphics primitives"
      ]
     },
     "metadata": {},
     "output_type": "display_data"
    }
   ],
   "source": [
    "sol=desolve_system(syst,[x,y],[0,0,1])\n",
    "sol_x(t,C1,C2)=sol[0].rhs()\n",
    "sol_y(t,C1,C2)=sol[1].rhs()\n",
    "g1=plot(sol_x(t),t,-5,5,color='red',ymin=-25,ymax=25)\n",
    "g2=plot(sol_y(t),t,-5,5,color='blue',ymin=-25,ymax=25)\n",
    "show(g1+g2)"
   ]
  },
  {
   "cell_type": "code",
   "execution_count": 24,
   "metadata": {},
   "outputs": [
    {
     "data": {
      "text/plain": [
       "[diff(x(t), t) == e^(-t) + x(t) + 2*y(t), diff(y(t), t) == -2*x(t) + y(t) + 1]"
      ]
     },
     "execution_count": 24,
     "metadata": {},
     "output_type": "execute_result"
    }
   ],
   "source": [
    "#2 c)\n",
    "t=var('t')\n",
    "x=function('x')(t)\n",
    "y=function('y')(t)\n",
    "deq1=diff(x,t)==x+2*y+exp(-t)\n",
    "deq2=diff(y,t)==-2*x+y+1\n",
    "syst=[deq1,deq2]\n",
    "syst"
   ]
  },
  {
   "cell_type": "code",
   "execution_count": 22,
   "metadata": {},
   "outputs": [
    {
     "data": {
      "text/html": [
       "<html><script type=\"math/tex; mode=display\">\\newcommand{\\Bold}[1]{\\mathbf{#1}}\\left[x\\left(t\\right) = -\\frac{1}{20} \\, {\\left(3 \\, \\cos\\left(2 \\, t\\right) - 29 \\, \\sin\\left(2 \\, t\\right)\\right)} e^{t} - \\frac{1}{4} \\, e^{\\left(-t\\right)} + \\frac{2}{5}, y\\left(t\\right) = \\frac{1}{20} \\, {\\left(29 \\, \\cos\\left(2 \\, t\\right) + 3 \\, \\sin\\left(2 \\, t\\right)\\right)} e^{t} - \\frac{1}{4} \\, e^{\\left(-t\\right)} - \\frac{1}{5}\\right]</script></html>"
      ],
      "text/latex": [
       "\\begin{math}\n",
       "\\newcommand{\\Bold}[1]{\\mathbf{#1}}\\left[x\\left(t\\right) = -\\frac{1}{20} \\, {\\left(3 \\, \\cos\\left(2 \\, t\\right) - 29 \\, \\sin\\left(2 \\, t\\right)\\right)} e^{t} - \\frac{1}{4} \\, e^{\\left(-t\\right)} + \\frac{2}{5}, y\\left(t\\right) = \\frac{1}{20} \\, {\\left(29 \\, \\cos\\left(2 \\, t\\right) + 3 \\, \\sin\\left(2 \\, t\\right)\\right)} e^{t} - \\frac{1}{4} \\, e^{\\left(-t\\right)} - \\frac{1}{5}\\right]\n",
       "\\end{math}"
      ],
      "text/plain": [
       "[x(t) == -1/20*(3*cos(2*t) - 29*sin(2*t))*e^t - 1/4*e^(-t) + 2/5,\n",
       " y(t) == 1/20*(29*cos(2*t) + 3*sin(2*t))*e^t - 1/4*e^(-t) - 1/5]"
      ]
     },
     "metadata": {},
     "output_type": "display_data"
    }
   ],
   "source": [
    "a=[0,0,1]\n",
    "show(desolve_system(syst,[x,y],a))"
   ]
  },
  {
   "cell_type": "code",
   "execution_count": 25,
   "metadata": {},
   "outputs": [
    {
     "data": {
      "image/png": "[encoded data removed]",
      "text/plain": [
       "Graphics object consisting of 2 graphics primitives"
      ]
     },
     "metadata": {},
     "output_type": "display_data"
    }
   ],
   "source": [
    "sol=desolve_system(syst,[x,y],[0,0,1])\n",
    "sol_x(t,C1,C2)=sol[0].rhs()\n",
    "sol_y(t,C1,C2)=sol[1].rhs()\n",
    "g1=plot(sol_x(t),t,-5,5,color='red',ymin=-25,ymax=25)\n",
    "g2=plot(sol_y(t),t,-5,5,color='blue',ymin=-25,ymax=25)\n",
    "show(g1+g2)"
   ]
  },
  {
   "cell_type": "code",
   "execution_count": 48,
   "metadata": {},
   "outputs": [
    {
     "data": {
      "text/plain": [
       "[diff(x(t), t) == x(t) + y(t), diff(y(t), t) == -2*x(t) + 4*y(t)]"
      ]
     },
     "execution_count": 48,
     "metadata": {},
     "output_type": "execute_result"
    }
   ],
   "source": [
    "#3 \n",
    "t=var('t')\n",
    "x=function('x')(t)\n",
    "y=function('y')(t)\n",
    "deq1=diff(x,t)==x+y\n",
    "deq2=diff(y,t)==-2*x+4*y\n",
    "syst=[deq1,deq2]\n",
    "syst"
   ]
  },
  {
   "cell_type": "code",
   "execution_count": 31,
   "metadata": {},
   "outputs": [
    {
     "data": {
      "text/html": [
       "<html><script type=\"math/tex; mode=display\">\\newcommand{\\Bold}[1]{\\mathbf{#1}}\\left[x\\left(t\\right) = -3 \\, e^{\\left(3 \\, t\\right)} + 6 \\, e^{\\left(2 \\, t\\right)}, y\\left(t\\right) = -6 \\, e^{\\left(3 \\, t\\right)} + 6 \\, e^{\\left(2 \\, t\\right)}\\right]</script></html>"
      ],
      "text/latex": [
       "\\begin{math}\n",
       "\\newcommand{\\Bold}[1]{\\mathbf{#1}}\\left[x\\left(t\\right) = -3 \\, e^{\\left(3 \\, t\\right)} + 6 \\, e^{\\left(2 \\, t\\right)}, y\\left(t\\right) = -6 \\, e^{\\left(3 \\, t\\right)} + 6 \\, e^{\\left(2 \\, t\\right)}\\right]\n",
       "\\end{math}"
      ],
      "text/plain": [
       "[x(t) == -3*e^(3*t) + 6*e^(2*t), y(t) == -6*e^(3*t) + 6*e^(2*t)]"
      ]
     },
     "metadata": {},
     "output_type": "display_data"
    }
   ],
   "source": [
    "sol=desolve_system(syst,[x,y],[0,3,0])\n",
    "show(sol)"
   ]
  },
  {
   "cell_type": "code",
   "execution_count": 33,
   "metadata": {},
   "outputs": [
    {
     "data": {
      "text/html": [
       "<html><script type=\"math/tex; mode=display\">\\newcommand{\\Bold}[1]{\\mathbf{#1}}-\\infty</script></html>"
      ],
      "text/latex": [
       "\\begin{math}\n",
       "\\newcommand{\\Bold}[1]{\\mathbf{#1}}-\\infty\n",
       "\\end{math}"
      ],
      "text/plain": [
       "-Infinity"
      ]
     },
     "metadata": {},
     "output_type": "display_data"
    },
    {
     "data": {
      "text/html": [
       "<html><script type=\"math/tex; mode=display\">\\newcommand{\\Bold}[1]{\\mathbf{#1}}-\\infty</script></html>"
      ],
      "text/latex": [
       "\\begin{math}\n",
       "\\newcommand{\\Bold}[1]{\\mathbf{#1}}-\\infty\n",
       "\\end{math}"
      ],
      "text/plain": [
       "-Infinity"
      ]
     },
     "metadata": {},
     "output_type": "display_data"
    }
   ],
   "source": [
    "sol_x(t)=sol[0].rhs()\n",
    "sol_y(t)=sol[1].rhs()\n",
    "show(limit(sol_x(t),t=infinity))\n",
    "show(limit(sol_y(t),t=infinity))"
   ]
  },
  {
   "cell_type": "code",
   "execution_count": 34,
   "metadata": {},
   "outputs": [
    {
     "data": {
      "text/html": [
       "<html><script type=\"math/tex; mode=display\">\\newcommand{\\Bold}[1]{\\mathbf{#1}}\\left[x\\left(t\\right) = 3 \\, e^{\\left(3 \\, t\\right)} - 3 \\, e^{\\left(2 \\, t\\right)}, y\\left(t\\right) = 6 \\, e^{\\left(3 \\, t\\right)} - 3 \\, e^{\\left(2 \\, t\\right)}\\right]</script></html>"
      ],
      "text/latex": [
       "\\begin{math}\n",
       "\\newcommand{\\Bold}[1]{\\mathbf{#1}}\\left[x\\left(t\\right) = 3 \\, e^{\\left(3 \\, t\\right)} - 3 \\, e^{\\left(2 \\, t\\right)}, y\\left(t\\right) = 6 \\, e^{\\left(3 \\, t\\right)} - 3 \\, e^{\\left(2 \\, t\\right)}\\right]\n",
       "\\end{math}"
      ],
      "text/plain": [
       "[x(t) == 3*e^(3*t) - 3*e^(2*t), y(t) == 6*e^(3*t) - 3*e^(2*t)]"
      ]
     },
     "metadata": {},
     "output_type": "display_data"
    }
   ],
   "source": [
    "sol=desolve_system(syst,[x,y],[0,0,3])\n",
    "show(sol)"
   ]
  },
  {
   "cell_type": "code",
   "execution_count": 35,
   "metadata": {},
   "outputs": [
    {
     "data": {
      "text/html": [
       "<html><script type=\"math/tex; mode=display\">\\newcommand{\\Bold}[1]{\\mathbf{#1}}+\\infty</script></html>"
      ],
      "text/latex": [
       "\\begin{math}\n",
       "\\newcommand{\\Bold}[1]{\\mathbf{#1}}+\\infty\n",
       "\\end{math}"
      ],
      "text/plain": [
       "+Infinity"
      ]
     },
     "metadata": {},
     "output_type": "display_data"
    },
    {
     "data": {
      "text/html": [
       "<html><script type=\"math/tex; mode=display\">\\newcommand{\\Bold}[1]{\\mathbf{#1}}+\\infty</script></html>"
      ],
      "text/latex": [
       "\\begin{math}\n",
       "\\newcommand{\\Bold}[1]{\\mathbf{#1}}+\\infty\n",
       "\\end{math}"
      ],
      "text/plain": [
       "+Infinity"
      ]
     },
     "metadata": {},
     "output_type": "display_data"
    }
   ],
   "source": [
    "sol_x(t)=sol[0].rhs()\n",
    "sol_y(t)=sol[1].rhs()\n",
    "show(limit(sol_x(t),t=infinity))\n",
    "show(limit(sol_y(t),t=infinity))"
   ]
  },
  {
   "cell_type": "code",
   "execution_count": 37,
   "metadata": {},
   "outputs": [
    {
     "data": {
      "text/html": [
       "<html><script type=\"math/tex; mode=display\">\\newcommand{\\Bold}[1]{\\mathbf{#1}}\\left[x\\left(t\\right) = 3 \\, e^{\\left(3 \\, t\\right)} - 6 \\, e^{\\left(2 \\, t\\right)}, y\\left(t\\right) = 6 \\, e^{\\left(3 \\, t\\right)} - 6 \\, e^{\\left(2 \\, t\\right)}\\right]</script></html>"
      ],
      "text/latex": [
       "\\begin{math}\n",
       "\\newcommand{\\Bold}[1]{\\mathbf{#1}}\\left[x\\left(t\\right) = 3 \\, e^{\\left(3 \\, t\\right)} - 6 \\, e^{\\left(2 \\, t\\right)}, y\\left(t\\right) = 6 \\, e^{\\left(3 \\, t\\right)} - 6 \\, e^{\\left(2 \\, t\\right)}\\right]\n",
       "\\end{math}"
      ],
      "text/plain": [
       "[x(t) == 3*e^(3*t) - 6*e^(2*t), y(t) == 6*e^(3*t) - 6*e^(2*t)]"
      ]
     },
     "metadata": {},
     "output_type": "display_data"
    }
   ],
   "source": [
    "sol=desolve_system(syst,[x,y],[0,-3,0])\n",
    "show(sol)"
   ]
  },
  {
   "cell_type": "code",
   "execution_count": 38,
   "metadata": {},
   "outputs": [
    {
     "data": {
      "text/html": [
       "<html><script type=\"math/tex; mode=display\">\\newcommand{\\Bold}[1]{\\mathbf{#1}}+\\infty</script></html>"
      ],
      "text/latex": [
       "\\begin{math}\n",
       "\\newcommand{\\Bold}[1]{\\mathbf{#1}}+\\infty\n",
       "\\end{math}"
      ],
      "text/plain": [
       "+Infinity"
      ]
     },
     "metadata": {},
     "output_type": "display_data"
    },
    {
     "data": {
      "text/html": [
       "<html><script type=\"math/tex; mode=display\">\\newcommand{\\Bold}[1]{\\mathbf{#1}}+\\infty</script></html>"
      ],
      "text/latex": [
       "\\begin{math}\n",
       "\\newcommand{\\Bold}[1]{\\mathbf{#1}}+\\infty\n",
       "\\end{math}"
      ],
      "text/plain": [
       "+Infinity"
      ]
     },
     "metadata": {},
     "output_type": "display_data"
    }
   ],
   "source": [
    "sol_x(t)=sol[0].rhs()\n",
    "sol_y(t)=sol[1].rhs()\n",
    "show(limit(sol_x(t),t=infinity))\n",
    "show(limit(sol_y(t),t=infinity))"
   ]
  },
  {
   "cell_type": "code",
   "execution_count": 39,
   "metadata": {},
   "outputs": [
    {
     "data": {
      "text/html": [
       "<html><script type=\"math/tex; mode=display\">\\newcommand{\\Bold}[1]{\\mathbf{#1}}\\left[x\\left(t\\right) = -3 \\, e^{\\left(3 \\, t\\right)} + 3 \\, e^{\\left(2 \\, t\\right)}, y\\left(t\\right) = -6 \\, e^{\\left(3 \\, t\\right)} + 3 \\, e^{\\left(2 \\, t\\right)}\\right]</script></html>"
      ],
      "text/latex": [
       "\\begin{math}\n",
       "\\newcommand{\\Bold}[1]{\\mathbf{#1}}\\left[x\\left(t\\right) = -3 \\, e^{\\left(3 \\, t\\right)} + 3 \\, e^{\\left(2 \\, t\\right)}, y\\left(t\\right) = -6 \\, e^{\\left(3 \\, t\\right)} + 3 \\, e^{\\left(2 \\, t\\right)}\\right]\n",
       "\\end{math}"
      ],
      "text/plain": [
       "[x(t) == -3*e^(3*t) + 3*e^(2*t), y(t) == -6*e^(3*t) + 3*e^(2*t)]"
      ]
     },
     "metadata": {},
     "output_type": "display_data"
    }
   ],
   "source": [
    "sol=desolve_system(syst,[x,y],[0,0,-3])\n",
    "show(sol)"
   ]
  },
  {
   "cell_type": "code",
   "execution_count": 40,
   "metadata": {},
   "outputs": [
    {
     "data": {
      "text/html": [
       "<html><script type=\"math/tex; mode=display\">\\newcommand{\\Bold}[1]{\\mathbf{#1}}-\\infty</script></html>"
      ],
      "text/latex": [
       "\\begin{math}\n",
       "\\newcommand{\\Bold}[1]{\\mathbf{#1}}-\\infty\n",
       "\\end{math}"
      ],
      "text/plain": [
       "-Infinity"
      ]
     },
     "metadata": {},
     "output_type": "display_data"
    },
    {
     "data": {
      "text/html": [
       "<html><script type=\"math/tex; mode=display\">\\newcommand{\\Bold}[1]{\\mathbf{#1}}-\\infty</script></html>"
      ],
      "text/latex": [
       "\\begin{math}\n",
       "\\newcommand{\\Bold}[1]{\\mathbf{#1}}-\\infty\n",
       "\\end{math}"
      ],
      "text/plain": [
       "-Infinity"
      ]
     },
     "metadata": {},
     "output_type": "display_data"
    }
   ],
   "source": [
    "sol_x(t)=sol[0].rhs()\n",
    "sol_y(t)=sol[1].rhs()\n",
    "show(limit(sol_x(t),t=infinity))\n",
    "show(limit(sol_y(t),t=infinity))"
   ]
  },
  {
   "cell_type": "code",
   "execution_count": 47,
   "metadata": {},
   "outputs": [
    {
     "data": {
      "image/png": "[encoded data removed]",
      "text/plain": [
       "Graphics object consisting of 5 graphics primitives"
      ]
     },
     "metadata": {},
     "output_type": "display_data"
    }
   ],
   "source": [
    "###Portret fazic###\n",
    "t=var('t')\n",
    "x=function('x')(t)\n",
    "y=function('y')(t)\n",
    "vars=[x,y]\n",
    "f1(u,v)=u+v\n",
    "f2(u,v)=-2*u+4*v\n",
    "g=plot_vector_field([f1(u,v),f2(u,v)],[u,-10,10],[v,-10,10],color='red',aspect_ratio=1)\n",
    "for k in [1..3]:\n",
    "    in_cond=[0,k,0]\n",
    "    sol=desolve_system(syst, vars,in_cond)\n",
    "    sol_x(t)=sol[0].rhs()\n",
    "    sol_y(t)=sol[1].rhs()\n",
    "    g1=parametric_plot((sol_x(t), sol_y(t)), (t, -10, 10),color='blue')\n",
    "    in_cond=[0,-k,0]\n",
    "    sol=desolve_system(syst, vars,in_cond)\n",
    "    sol_x(t)=sol[0].rhs()\n",
    "    sol_y(t)=sol[1].rhs()\n",
    "    g2=parametric_plot((sol_x(t), sol_y(t)), (t, -10, 10),color='blue')\n",
    "    in_cond=[0,0,k]\n",
    "    sol=desolve_system(syst, vars,in_cond)\n",
    "    sol_x(t)=sol[0].rhs()\n",
    "    sol_y(t)=sol[1].rhs()\n",
    "    g3=parametric_plot((sol_x(t), sol_y(t)), (t, -10, 10),color='blue')\n",
    "    in_cond=[0,0,-k]\n",
    "    sol=desolve_system(syst, vars,in_cond)\n",
    "    sol_x(t)=sol[0].rhs()\n",
    "    sol_y(t)=sol[1].rhs()\n",
    "    g4=parametric_plot((sol_x(t), sol_y(t)), (t, -10, 10),color='blue')\n",
    "    g5=g+g1+g2+g3+g4\n",
    "    \n",
    "g5.show(xmin=-5,xmax=5,ymin=-5,ymax=5)"
   ]
  },
  {
   "cell_type": "code",
   "execution_count": 60,
   "metadata": {},
   "outputs": [
    {
     "data": {
      "text/plain": [
       "[diff(x(t), t) == y(t), diff(y(t), t) == -x(t) - 2*y(t)]"
      ]
     },
     "execution_count": 60,
     "metadata": {},
     "output_type": "execute_result"
    }
   ],
   "source": [
    "#4\n",
    "reset()\n",
    "t,C1,C2=var('t','C1','C2')\n",
    "x=function('x')(t)\n",
    "y=function('y')(t)\n",
    "deq1=diff(x,t)==y\n",
    "deq2=diff(y,t)==-x-2*y\n",
    "syst=[deq1,deq2]\n",
    "syst"
   ]
  },
  {
   "cell_type": "code",
   "execution_count": 62,
   "metadata": {},
   "outputs": [
    {
     "data": {
      "text/html": [
       "<html><script type=\"math/tex; mode=display\">\\newcommand{\\Bold}[1]{\\mathbf{#1}}0</script></html>"
      ],
      "text/latex": [
       "\\begin{math}\n",
       "\\newcommand{\\Bold}[1]{\\mathbf{#1}}0\n",
       "\\end{math}"
      ],
      "text/plain": [
       "0"
      ]
     },
     "metadata": {},
     "output_type": "display_data"
    },
    {
     "data": {
      "text/html": [
       "<html><script type=\"math/tex; mode=display\">\\newcommand{\\Bold}[1]{\\mathbf{#1}}0</script></html>"
      ],
      "text/latex": [
       "\\begin{math}\n",
       "\\newcommand{\\Bold}[1]{\\mathbf{#1}}0\n",
       "\\end{math}"
      ],
      "text/plain": [
       "0"
      ]
     },
     "metadata": {},
     "output_type": "display_data"
    },
    {
     "data": {
      "text/html": [
       "<html><script type=\"math/tex; mode=display\">\\newcommand{\\Bold}[1]{\\mathbf{#1}}C_{1} t e^{\\left(-t\\right)} + C_{2} t e^{\\left(-t\\right)} + C_{1} e^{\\left(-t\\right)}</script></html>"
      ],
      "text/latex": [
       "\\begin{math}\n",
       "\\newcommand{\\Bold}[1]{\\mathbf{#1}}C_{1} t e^{\\left(-t\\right)} + C_{2} t e^{\\left(-t\\right)} + C_{1} e^{\\left(-t\\right)}\n",
       "\\end{math}"
      ],
      "text/plain": [
       "C1*t*e^(-t) + C2*t*e^(-t) + C1*e^(-t)"
      ]
     },
     "metadata": {},
     "output_type": "display_data"
    },
    {
     "data": {
      "text/html": [
       "<html><script type=\"math/tex; mode=display\">\\newcommand{\\Bold}[1]{\\mathbf{#1}}-C_{1} t e^{\\left(-t\\right)} - C_{2} t e^{\\left(-t\\right)} + C_{2} e^{\\left(-t\\right)}</script></html>"
      ],
      "text/latex": [
       "\\begin{math}\n",
       "\\newcommand{\\Bold}[1]{\\mathbf{#1}}-C_{1} t e^{\\left(-t\\right)} - C_{2} t e^{\\left(-t\\right)} + C_{2} e^{\\left(-t\\right)}\n",
       "\\end{math}"
      ],
      "text/plain": [
       "-C1*t*e^(-t) - C2*t*e^(-t) + C2*e^(-t)"
      ]
     },
     "metadata": {},
     "output_type": "display_data"
    }
   ],
   "source": [
    "sol=desolve_system(syst,[x,y],[0,C1,C2])\n",
    "sol_x(t,C1,C2)=sol[0].rhs()\n",
    "sol_y(t,C1,C2)=sol[1].rhs()\n",
    "show(limit(sol_x(t),t=infinity))\n",
    "show(limit(sol_y(t),t=infinity))\n",
    "show(sol_x(t,C1,C2))\n",
    "show(sol_y(t,C1,C2))"
   ]
  },
  {
   "cell_type": "code",
   "execution_count": 66,
   "metadata": {},
   "outputs": [
    {
     "data": {
      "image/png": "[encoded data removed]",
      "text/plain": [
       "Graphics object consisting of 2 graphics primitives"
      ]
     },
     "metadata": {},
     "output_type": "display_data"
    }
   ],
   "source": [
    "cond1=[0,3,0]\n",
    "sol1=desolve_system(syst,[x,y],cond1)\n",
    "sol1_x(t)=sol1[0].rhs()\n",
    "sol1_y(t)=sol1[1].rhs()\n",
    "f1(u,v)=v\n",
    "f2(u,v)=-u-2*v\n",
    "n=sqrt(f1(u,v)^2+f2(u,v)^2)\n",
    "g1=plot_vector_field([f1(u,v)/n,f2(u,v)/n],[u,-10,10],[v,-10,10],color='red',aspect_ratio=1)\n",
    "g2=parametric_plot((sol1_x(t),sol1_y(t)),(t,-10,10),color='blue')\n",
    "g=g1+g2\n",
    "g.show(xmin=-5,xmax=5,ymin=-5,ymax=5)"
   ]
  },
  {
   "cell_type": "code",
   "execution_count": null,
   "metadata": {},
   "outputs": [],
   "source": []
  }
 ],
 "metadata": {
  "kernelspec": {
   "display_name": "SageMath 9.2",
   "language": "sage",
   "name": "sagemath"
  },
  "language_info": {
   "codemirror_mode": {
    "name": "ipython",
    "version": 3
   },
   "file_extension": ".py",
   "mimetype": "text/x-python",
   "name": "python",
   "nbconvert_exporter": "python",
   "pygments_lexer": "ipython3",
   "version": "3.7.7"
  }
 },
 "nbformat": 4,
 "nbformat_minor": 4
}
